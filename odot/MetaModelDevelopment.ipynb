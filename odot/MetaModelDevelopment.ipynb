{
 "cells": [
  {
   "cell_type": "markdown",
   "metadata": {},
   "source": [
    "# ODOT Beta-Test - Meta-Model Development Notebook"
   ]
  },
  {
   "cell_type": "markdown",
   "metadata": {},
   "source": [
    "<div style=\"color:red; border:1px solid; padding:5px; max-width:800px; font-size:80%;\">\n",
    "The purpose of this test and the following analysis was to evaluate ODOT’s new Activity Based Model (ABM); \n",
    "specifically the ability of the ABM to provide information about emerging technologies.  To help to achieve \n",
    "that purpose a realistic, but fictitious, set of regional ABM inputs was developed.  At the end of this \n",
    "beta test, several flaws in the performance measure creation and methodology were noted as potential \n",
    "improvements for future analysis, but were not corrected in this dataset and resulting analysis.  The \n",
    "information in this data and analysis serves as an example for how to use TMIP-EMAT using realistic data.  \n",
    "This dataset and analysis should not be used to draw any specific conclusions about transportation policy’s \n",
    "impact on system performance and outcomes.\n",
    "</div>\n"
   ]
  },
  {
   "cell_type": "markdown",
   "metadata": {},
   "source": [
    "In this notebook, we walk through the development of a MetaModel for the \n",
    "ODOT SOABM using TMIP-EMAT.  The documentation here presumes that the\n",
    "model scoping, initial experimental designs, and initial core model runs\n",
    "have all been completed previously."
   ]
  },
  {
   "cell_type": "code",
   "execution_count": null,
   "metadata": {
    "ExecuteTime": {
     "end_time": "2019-09-17T00:58:06.672630Z",
     "start_time": "2019-09-17T00:58:05.241878Z"
    }
   },
   "outputs": [],
   "source": [
    "import os\n",
    "import numpy\n",
    "import pandas"
   ]
  },
  {
   "cell_type": "markdown",
   "metadata": {},
   "source": [
    "If you do not have the correct version of EMAT (at least 0.2.5) installed to run this workbook, \n",
    "visit the [TMIP-EMAT website](https://tmip-emat.github.io/source/emat.conda.html#managing-environments) \n",
    "for installation instructions."
   ]
  },
  {
   "cell_type": "code",
   "execution_count": null,
   "metadata": {
    "ExecuteTime": {
     "end_time": "2019-09-17T00:58:13.316694Z",
     "start_time": "2019-09-17T00:58:06.676513Z"
    }
   },
   "outputs": [],
   "source": [
    "import emat\n",
    "emat.versions()"
   ]
  },
  {
   "cell_type": "markdown",
   "metadata": {},
   "source": [
    "Enable some logging. This is optional but convenient, especially for\n",
    "keeping track of run-time."
   ]
  },
  {
   "cell_type": "code",
   "execution_count": null,
   "metadata": {
    "ExecuteTime": {
     "end_time": "2019-09-17T00:58:13.352947Z",
     "start_time": "2019-09-17T00:58:13.341578Z"
    }
   },
   "outputs": [],
   "source": [
    "from emat.util.loggers import log_to_stderr, TimingLog\n",
    "log = log_to_stderr(level=20)\n",
    "log.info('Logging Starts')"
   ]
  },
  {
   "cell_type": "markdown",
   "metadata": {},
   "source": [
    "## Load Existing Scope and Data"
   ]
  },
  {
   "cell_type": "markdown",
   "metadata": {},
   "source": [
    "Connect to DB file with populated LHS experiment design, and read scope \n",
    "and experimental data."
   ]
  },
  {
   "cell_type": "code",
   "execution_count": null,
   "metadata": {
    "ExecuteTime": {
     "end_time": "2019-09-17T00:58:13.366155Z",
     "start_time": "2019-09-17T00:58:13.360965Z"
    }
   },
   "outputs": [],
   "source": [
    "db = emat.SQLiteDB(\"data/soabm_v2.db\", initialize=False)"
   ]
  },
  {
   "cell_type": "code",
   "execution_count": null,
   "metadata": {
    "ExecuteTime": {
     "end_time": "2019-09-17T00:58:13.377590Z",
     "start_time": "2019-09-17T00:58:13.368597Z"
    },
    "scrolled": true
   },
   "outputs": [],
   "source": [
    "db.read_scope_names()"
   ]
  },
  {
   "cell_type": "code",
   "execution_count": null,
   "metadata": {
    "ExecuteTime": {
     "end_time": "2019-09-17T00:58:13.401386Z",
     "start_time": "2019-09-17T00:58:13.379765Z"
    }
   },
   "outputs": [],
   "source": [
    "scope = db.read_scope('SOABM')\n",
    "scope.info()"
   ]
  },
  {
   "cell_type": "code",
   "execution_count": null,
   "metadata": {
    "ExecuteTime": {
     "end_time": "2019-09-17T00:58:13.417577Z",
     "start_time": "2019-09-17T00:58:13.405558Z"
    }
   },
   "outputs": [],
   "source": [
    "db.read_design_names('SOABM')"
   ]
  },
  {
   "cell_type": "markdown",
   "metadata": {},
   "source": [
    "Load the data from the core model experiments into a `pandas.DataFrame`."
   ]
  },
  {
   "cell_type": "code",
   "execution_count": null,
   "metadata": {
    "ExecuteTime": {
     "end_time": "2019-09-17T00:58:13.461204Z",
     "start_time": "2019-09-17T00:58:13.420811Z"
    }
   },
   "outputs": [],
   "source": [
    "core_experiments = db.read_experiment_all(scope_name='SOABM', design_name='odot_lhs', ensure_dtypes=True)\n",
    "core_experiments.info()"
   ]
  },
  {
   "cell_type": "markdown",
   "metadata": {},
   "source": [
    "Load a modified scope from the YAML file.  This modified version adds some new \n",
    "output features that were not available for the initial model runs."
   ]
  },
  {
   "cell_type": "code",
   "execution_count": null,
   "metadata": {
    "ExecuteTime": {
     "end_time": "2019-09-17T00:58:13.504194Z",
     "start_time": "2019-09-17T00:58:13.464113Z"
    }
   },
   "outputs": [],
   "source": [
    "scope1 = emat.Scope('data/SOABM_scope.yaml') \n",
    "scope1.info()"
   ]
  },
  {
   "cell_type": "markdown",
   "metadata": {},
   "source": [
    "## Visualization and Analysis of Core Model Experiments\n",
    "\n",
    "### Scatterplot Matrix: Performance Measures w.r.t. Input Parameters "
   ]
  },
  {
   "cell_type": "code",
   "execution_count": null,
   "metadata": {
    "ExecuteTime": {
     "end_time": "2019-09-18T17:18:02.139440Z",
     "start_time": "2019-09-18T17:17:34.702777Z"
    },
    "scrolled": true
   },
   "outputs": [],
   "source": [
    "from emat.analysis import display_experiments\n",
    "display_experiments(scope1, core_experiments)"
   ]
  },
  {
   "cell_type": "markdown",
   "metadata": {},
   "source": [
    "### Feature Scoring"
   ]
  },
  {
   "cell_type": "code",
   "execution_count": null,
   "metadata": {
    "ExecuteTime": {
     "end_time": "2019-09-17T00:58:32.541576Z",
     "start_time": "2019-09-17T00:58:30.110509Z"
    }
   },
   "outputs": [],
   "source": [
    "from emat.analysis import feature_scores\n",
    "feature_scores(scope, core_experiments, return_type='styled')"
   ]
  },
  {
   "cell_type": "markdown",
   "metadata": {},
   "source": [
    "## Derive Meta Models"
   ]
  },
  {
   "cell_type": "code",
   "execution_count": null,
   "metadata": {
    "ExecuteTime": {
     "end_time": "2019-09-17T00:58:32.546993Z",
     "start_time": "2019-09-17T00:58:32.544195Z"
    }
   },
   "outputs": [],
   "source": [
    "from emat.model.meta_model import create_metamodel"
   ]
  },
  {
   "cell_type": "code",
   "execution_count": null,
   "metadata": {
    "ExecuteTime": {
     "end_time": "2019-09-17T00:58:32.576814Z",
     "start_time": "2019-09-17T00:58:32.548972Z"
    }
   },
   "outputs": [],
   "source": [
    "db_a = emat.database.SQLiteDB('data/soabm_live_analysis_v2.db', initialize=True)\n",
    "# Note running this will overwrite any existing version of `data/soabm_live_analysis_v2.db` "
   ]
  },
  {
   "cell_type": "code",
   "execution_count": null,
   "metadata": {
    "ExecuteTime": {
     "end_time": "2019-09-17T00:58:32.592698Z",
     "start_time": "2019-09-17T00:58:32.578359Z"
    }
   },
   "outputs": [],
   "source": [
    "scope1.store_scope(db_a)"
   ]
  },
  {
   "cell_type": "code",
   "execution_count": null,
   "metadata": {
    "ExecuteTime": {
     "end_time": "2019-09-17T00:58:32.649240Z",
     "start_time": "2019-09-17T00:58:32.594597Z"
    }
   },
   "outputs": [],
   "source": [
    "db_a.write_experiment_all(\n",
    "    scope1.name, \n",
    "    'odot_lhs', \n",
    "    emat.SOURCE_IS_CORE_MODEL, \n",
    "    core_experiments,\n",
    ")"
   ]
  },
  {
   "cell_type": "code",
   "execution_count": null,
   "metadata": {
    "ExecuteTime": {
     "end_time": "2019-09-17T00:58:45.475629Z",
     "start_time": "2019-09-17T00:58:32.650971Z"
    }
   },
   "outputs": [],
   "source": [
    "with TimingLog():\n",
    "    mm = create_metamodel(scope1, core_experiments, db=db_a)\n",
    "mm"
   ]
  },
  {
   "cell_type": "code",
   "execution_count": null,
   "metadata": {
    "ExecuteTime": {
     "end_time": "2019-09-17T00:58:45.487764Z",
     "start_time": "2019-09-17T00:58:45.478099Z"
    }
   },
   "outputs": [],
   "source": [
    "mm.function.regression.lr.r2"
   ]
  },
  {
   "cell_type": "code",
   "execution_count": null,
   "metadata": {
    "ExecuteTime": {
     "end_time": "2019-09-17T00:58:45.527105Z",
     "start_time": "2019-09-17T00:58:45.491333Z"
    },
    "scrolled": true
   },
   "outputs": [],
   "source": [
    "mm.function.regression.lr.coefficients_summary()"
   ]
  },
  {
   "cell_type": "code",
   "execution_count": null,
   "metadata": {
    "ExecuteTime": {
     "end_time": "2019-09-17T00:59:32.471254Z",
     "start_time": "2019-09-17T00:58:45.529903Z"
    }
   },
   "outputs": [],
   "source": [
    "with TimingLog():\n",
    "    cv_scores = mm.function.cross_val_scores()"
   ]
  },
  {
   "cell_type": "code",
   "execution_count": null,
   "metadata": {
    "ExecuteTime": {
     "end_time": "2019-09-17T00:59:32.480267Z",
     "start_time": "2019-09-17T00:59:32.472882Z"
    }
   },
   "outputs": [],
   "source": [
    "cv_scores"
   ]
  },
  {
   "cell_type": "code",
   "execution_count": null,
   "metadata": {
    "ExecuteTime": {
     "end_time": "2019-09-17T00:59:33.762164Z",
     "start_time": "2019-09-17T00:59:32.482446Z"
    }
   },
   "outputs": [],
   "source": [
    "big = scope1.design_experiments(n_samples=5000, sampler='mc', db=db_a)"
   ]
  },
  {
   "cell_type": "code",
   "execution_count": null,
   "metadata": {
    "ExecuteTime": {
     "end_time": "2019-09-17T01:00:28.362370Z",
     "start_time": "2019-09-17T00:59:33.766688Z"
    }
   },
   "outputs": [],
   "source": [
    "with TimingLog():\n",
    "    big_runs = mm.run_experiments(big, db=db_a)"
   ]
  },
  {
   "cell_type": "markdown",
   "metadata": {
    "toc-hr-collapsed": true
   },
   "source": [
    "### Contrast Core and Meta Model Results"
   ]
  },
  {
   "cell_type": "code",
   "execution_count": null,
   "metadata": {
    "ExecuteTime": {
     "end_time": "2019-09-17T01:00:49.404744Z",
     "start_time": "2019-09-17T01:00:28.365013Z"
    }
   },
   "outputs": [],
   "source": [
    "from emat.analysis import contrast_experiments\n",
    "contrast_experiments(scope1, big_runs, core_experiments, mass=100)"
   ]
  }
 ],
 "metadata": {
  "jupytext": {
   "encoding": "# -*- coding: utf-8 -*-"
  },
  "kernelspec": {
   "display_name": "Python 3",
   "language": "python",
   "name": "python3"
  },
  "language_info": {
   "codemirror_mode": {
    "name": "ipython",
    "version": 3
   },
   "file_extension": ".py",
   "mimetype": "text/x-python",
   "name": "python",
   "nbconvert_exporter": "python",
   "pygments_lexer": "ipython3",
   "version": "3.7.3"
  },
  "toc": {
   "base_numbering": 1,
   "nav_menu": {},
   "number_sections": true,
   "sideBar": true,
   "skip_h1_title": false,
   "title_cell": "Table of Contents",
   "title_sidebar": "Contents",
   "toc_cell": false,
   "toc_position": {},
   "toc_section_display": true,
   "toc_window_display": false
  },
  "widgets": {
   "application/vnd.jupyter.widget-state+json": {
    "state": {},
    "version_major": 2,
    "version_minor": 0
   }
  }
 },
 "nbformat": 4,
 "nbformat_minor": 4
}
