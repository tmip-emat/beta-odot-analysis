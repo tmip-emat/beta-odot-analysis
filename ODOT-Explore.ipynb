{
 "cells": [
  {
   "cell_type": "markdown",
   "metadata": {},
   "source": [
    "# ODOT - Exploratory Analysis Notebook"
   ]
  },
  {
   "cell_type": "markdown",
   "metadata": {},
   "source": [
    "<div style=\"color:red; border:1px solid; padding:5px; max-width:800px; font-size:80%;\">\n",
    "The purpose of this test and the following analysis was to evaluate ODOT’s new Activity Based Model (ABM); \n",
    "specifically the ability of the ABM to provide information about emerging technologies.  To help to achieve \n",
    "that purpose a realistic, but fictitious, set of regional ABM inputs was developed.  At the end of this \n",
    "beta test, several flaws in the performance measure creation and methodology were noted as potential \n",
    "improvements for future analysis, but were not corrected in this dataset and resulting analysis.  The \n",
    "information in this data and analysis serves as an example for how to use TMIP-EMAT using realistic data.  \n",
    "This dataset and analysis should not be used to draw any specific conclusions about transportation policy’s \n",
    "impact on system performance and outcomes.\n",
    "</div>\n"
   ]
  },
  {
   "cell_type": "markdown",
   "metadata": {},
   "source": [
    "In this notebook, we walk through an Exploratory Analysis for the \n",
    "ODOT SOABM using TMIP-EMAT.  The documentation here presumes that the\n",
    "model scoping, initial experimental designs, and initial core model runs,\n",
    "and meta-model development have all been completed previously."
   ]
  },
  {
   "cell_type": "code",
   "execution_count": null,
   "metadata": {
    "ExecuteTime": {
     "end_time": "2019-09-17T22:17:54.502614Z",
     "start_time": "2019-09-17T22:17:52.975371Z"
    }
   },
   "outputs": [],
   "source": [
    "import os\n",
    "import numpy\n",
    "import pandas"
   ]
  },
  {
   "cell_type": "code",
   "execution_count": null,
   "metadata": {
    "ExecuteTime": {
     "end_time": "2019-09-17T22:18:02.190109Z",
     "start_time": "2019-09-17T22:17:54.504869Z"
    }
   },
   "outputs": [],
   "source": [
    "import emat\n",
    "emat.versions()"
   ]
  },
  {
   "cell_type": "markdown",
   "metadata": {},
   "source": [
    "Enable some logging. This is optional but convenient, especially for\n",
    "keeping track of run-time."
   ]
  },
  {
   "cell_type": "code",
   "execution_count": null,
   "metadata": {
    "ExecuteTime": {
     "end_time": "2019-09-17T22:18:02.240137Z",
     "start_time": "2019-09-17T22:18:02.209173Z"
    }
   },
   "outputs": [],
   "source": [
    "from emat.util.loggers import log_to_stderr, TimingLog\n",
    "log = log_to_stderr(level=20)\n",
    "log.info('Logging Starts')"
   ]
  },
  {
   "cell_type": "markdown",
   "metadata": {},
   "source": [
    "## Load Existing Scope, Data, and MetaModel"
   ]
  },
  {
   "cell_type": "markdown",
   "metadata": {},
   "source": [
    "Connect to DB file with populated LHS experiment design, and read scope \n",
    "and experimental data."
   ]
  },
  {
   "cell_type": "code",
   "execution_count": null,
   "metadata": {
    "ExecuteTime": {
     "end_time": "2019-09-17T22:18:06.397282Z",
     "start_time": "2019-09-17T22:18:06.386485Z"
    }
   },
   "outputs": [],
   "source": [
    "db = emat.SQLiteDB(\"soabm_analysis_v2.db\", initialize=False)"
   ]
  },
  {
   "cell_type": "code",
   "execution_count": null,
   "metadata": {
    "ExecuteTime": {
     "end_time": "2019-09-17T22:18:07.377528Z",
     "start_time": "2019-09-17T22:18:07.354577Z"
    },
    "scrolled": true
   },
   "outputs": [],
   "source": [
    "db.read_scope_names()"
   ]
  },
  {
   "cell_type": "code",
   "execution_count": null,
   "metadata": {
    "ExecuteTime": {
     "end_time": "2019-09-17T22:18:09.328161Z",
     "start_time": "2019-09-17T22:18:09.292489Z"
    }
   },
   "outputs": [],
   "source": [
    "scope = db.read_scope('SOABM')\n",
    "scope.info()"
   ]
  },
  {
   "cell_type": "code",
   "execution_count": null,
   "metadata": {
    "ExecuteTime": {
     "end_time": "2019-09-17T22:18:10.339381Z",
     "start_time": "2019-09-17T22:18:10.315691Z"
    }
   },
   "outputs": [],
   "source": [
    "db.read_design_names('SOABM')"
   ]
  },
  {
   "cell_type": "markdown",
   "metadata": {},
   "source": [
    "Load the data from the core model experiments into a `pandas.DataFrame`."
   ]
  },
  {
   "cell_type": "code",
   "execution_count": null,
   "metadata": {
    "ExecuteTime": {
     "end_time": "2019-09-17T22:18:28.294948Z",
     "start_time": "2019-09-17T22:18:28.130792Z"
    }
   },
   "outputs": [],
   "source": [
    "core_experiments = db.read_experiment_all(scope_name='SOABM', design_name='odot_lhs', ensure_dtypes=True)"
   ]
  },
  {
   "cell_type": "code",
   "execution_count": null,
   "metadata": {
    "ExecuteTime": {
     "end_time": "2019-09-17T22:18:32.996918Z",
     "start_time": "2019-09-17T22:18:32.908428Z"
    }
   },
   "outputs": [],
   "source": [
    "mm = db.read_metamodel('SOABM', 1)"
   ]
  },
  {
   "cell_type": "code",
   "execution_count": null,
   "metadata": {
    "ExecuteTime": {
     "end_time": "2019-09-17T22:18:35.171542Z",
     "start_time": "2019-09-17T22:18:34.494798Z"
    }
   },
   "outputs": [],
   "source": [
    "meta_experiments = db.read_experiment_all(scope_name='SOABM', design_name='mc', ensure_dtypes=True, source=1)\n",
    "meta_experiments.info()"
   ]
  },
  {
   "cell_type": "markdown",
   "metadata": {},
   "source": [
    "# Explore"
   ]
  },
  {
   "cell_type": "code",
   "execution_count": null,
   "metadata": {
    "ExecuteTime": {
     "end_time": "2019-09-17T22:18:42.003730Z",
     "start_time": "2019-09-17T22:18:40.752540Z"
    }
   },
   "outputs": [],
   "source": [
    "from emat.analysis.explore import Explore\n",
    "\n",
    "xp = Explore(scope=scope, data=meta_experiments)"
   ]
  },
  {
   "cell_type": "code",
   "execution_count": null,
   "metadata": {
    "ExecuteTime": {
     "end_time": "2019-09-17T22:18:50.991221Z",
     "start_time": "2019-09-17T22:18:44.823230Z"
    }
   },
   "outputs": [],
   "source": [
    "xp.complete()"
   ]
  },
  {
   "cell_type": "code",
   "execution_count": null,
   "metadata": {
    "ExecuteTime": {
     "end_time": "2019-09-17T22:19:55.149244Z",
     "start_time": "2019-09-17T22:19:54.302428Z"
    }
   },
   "outputs": [],
   "source": [
    "two_way = xp.two_way(x='Transit LOS', y='Bike and Walk Mode Share')\n",
    "two_way"
   ]
  },
  {
   "cell_type": "markdown",
   "metadata": {},
   "source": [
    "Factors can be constrained by manipulating the sliders and buttons, or by\n",
    "using Python commands.  For example, you can set a lower bound on `'Transit LOS'`:"
   ]
  },
  {
   "cell_type": "code",
   "execution_count": null,
   "metadata": {
    "ExecuteTime": {
     "end_time": "2019-09-17T22:20:31.472811Z",
     "start_time": "2019-09-17T22:20:31.081292Z"
    }
   },
   "outputs": [],
   "source": [
    "xp.set_lower_bound('Transit LOS', 5)"
   ]
  },
  {
   "cell_type": "markdown",
   "metadata": {},
   "source": [
    "Or remove `False` from the allowed set of values for `'Transit Everywhere'`"
   ]
  },
  {
   "cell_type": "code",
   "execution_count": null,
   "metadata": {},
   "outputs": [],
   "source": [
    "xp.remove_from_allowed_set('Transit Everywhere', False)"
   ]
  },
  {
   "cell_type": "markdown",
   "metadata": {},
   "source": [
    "By default in the `complete` view, performance measure widgets are shown\n",
    "as kernel density plots for the full distribution as well as the distribution\n",
    "of cases inside the box, and these widgets are shown without controllers.\n",
    "Both of these defaults can be overridden by using the `selectors` \n",
    "command instead:"
   ]
  },
  {
   "cell_type": "code",
   "execution_count": null,
   "metadata": {
    "ExecuteTime": {
     "end_time": "2019-09-18T15:29:17.082263Z",
     "start_time": "2019-09-18T15:29:16.890557Z"
    }
   },
   "outputs": [],
   "source": [
    "xp.selectors('Bike and Walk Mode Share', 'Transit with PNR and KNR Mode Share', 'Thousands of Auto Hours Traveled', style='hist')"
   ]
  },
  {
   "cell_type": "code",
   "execution_count": null,
   "metadata": {
    "ExecuteTime": {
     "end_time": "2019-09-18T18:26:18.575483Z",
     "start_time": "2019-09-18T18:26:17.968181Z"
    }
   },
   "outputs": [],
   "source": [
    "xp.clear()"
   ]
  },
  {
   "cell_type": "code",
   "execution_count": null,
   "metadata": {},
   "outputs": [],
   "source": [
    "xp.set_lower_bound('Bike and Walk Mode Share', 15)"
   ]
  },
  {
   "cell_type": "markdown",
   "metadata": {},
   "source": [
    "# Scenario Discovery"
   ]
  },
  {
   "cell_type": "code",
   "execution_count": null,
   "metadata": {
    "ExecuteTime": {
     "end_time": "2019-09-17T22:21:21.759891Z",
     "start_time": "2019-09-17T22:21:21.687172Z"
    }
   },
   "outputs": [],
   "source": [
    "discovery = xp.prim(target=xp.data['Thousands of Auto Hours Traveled'] <= 260)"
   ]
  },
  {
   "cell_type": "code",
   "execution_count": null,
   "metadata": {
    "ExecuteTime": {
     "end_time": "2019-09-17T22:21:25.358342Z",
     "start_time": "2019-09-17T22:21:23.007308Z"
    }
   },
   "outputs": [],
   "source": [
    "discovery.tradeoff_selector()"
   ]
  },
  {
   "cell_type": "code",
   "execution_count": null,
   "metadata": {},
   "outputs": [],
   "source": [
    "xp.two_way(y='Active Transport Speed', x='Bike and Walk Mode Share')"
   ]
  },
  {
   "cell_type": "code",
   "execution_count": null,
   "metadata": {},
   "outputs": [],
   "source": []
  }
 ],
 "metadata": {
  "kernelspec": {
   "display_name": "Python 3",
   "language": "python",
   "name": "python3"
  },
  "language_info": {
   "codemirror_mode": {
    "name": "ipython",
    "version": 3
   },
   "file_extension": ".py",
   "mimetype": "text/x-python",
   "name": "python",
   "nbconvert_exporter": "python",
   "pygments_lexer": "ipython3",
   "version": "3.7.3"
  },
  "toc": {
   "base_numbering": 1,
   "nav_menu": {},
   "number_sections": true,
   "sideBar": true,
   "skip_h1_title": false,
   "title_cell": "Table of Contents",
   "title_sidebar": "Contents",
   "toc_cell": false,
   "toc_position": {},
   "toc_section_display": true,
   "toc_window_display": false
  },
  "widgets": {
   "application/vnd.jupyter.widget-state+json": {
    "state": {},
    "version_major": 2,
    "version_minor": 0
   }
  }
 },
 "nbformat": 4,
 "nbformat_minor": 4
}
