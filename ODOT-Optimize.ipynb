{
 "cells": [
  {
   "cell_type": "markdown",
   "metadata": {},
   "source": [
    "# ODOT - Exploratory Analysis Notebook"
   ]
  },
  {
   "cell_type": "markdown",
   "metadata": {},
   "source": [
    "<div style=\"color:red; border:1px solid; padding:5px; max-width:800px; font-size:80%;\">\n",
    "The purpose of this test and the following analysis was to evaluate ODOT’s new Activity Based Model (ABM); \n",
    "specifically the ability of the ABM to provide information about emerging technologies.  To help to achieve \n",
    "that purpose a realistic, but fictitious, set of regional ABM inputs was developed.  At the end of this \n",
    "beta test, several flaws in the performance measure creation and methodology were noted as potential \n",
    "improvements for future analysis, but were not corrected in this dataset and resulting analysis.  The \n",
    "information in this data and analysis serves as an example for how to use TMIP-EMAT using realistic data.  \n",
    "This dataset and analysis should not be used to draw any specific conclusions about transportation policy’s \n",
    "impact on system performance and outcomes.\n",
    "</div>\n"
   ]
  },
  {
   "cell_type": "markdown",
   "metadata": {},
   "source": [
    "In this notebook, we walk through an Exploratory Analysis for the \n",
    "ODOT SOABM using TMIP-EMAT.  The documentation here presumes that the\n",
    "model scoping, initial experimental designs, and initial core model runs,\n",
    "and meta-model development have all been completed previously."
   ]
  },
  {
   "cell_type": "code",
   "execution_count": null,
   "metadata": {
    "ExecuteTime": {
     "end_time": "2019-09-17T15:09:02.678982Z",
     "start_time": "2019-09-17T15:09:00.972103Z"
    }
   },
   "outputs": [],
   "source": [
    "import os\n",
    "import numpy\n",
    "import pandas"
   ]
  },
  {
   "cell_type": "code",
   "execution_count": null,
   "metadata": {
    "ExecuteTime": {
     "end_time": "2019-09-17T15:09:09.276967Z",
     "start_time": "2019-09-17T15:09:02.682266Z"
    }
   },
   "outputs": [],
   "source": [
    "import emat.versions()"
   ]
  },
  {
   "cell_type": "markdown",
   "metadata": {},
   "source": [
    "Enable some logging. This is optional but convenient, especially for\n",
    "keeping track of run-time."
   ]
  },
  {
   "cell_type": "code",
   "execution_count": null,
   "metadata": {
    "ExecuteTime": {
     "end_time": "2019-09-17T15:09:09.302821Z",
     "start_time": "2019-09-17T15:09:09.287262Z"
    }
   },
   "outputs": [],
   "source": [
    "from emat.util.loggers import log_to_stderr, TimingLog\n",
    "log = log_to_stderr(level=25)\n",
    "log.log(25, 'Logging Starts')"
   ]
  },
  {
   "cell_type": "markdown",
   "metadata": {},
   "source": [
    "## Load Existing Scope, Data, and MetaModel"
   ]
  },
  {
   "cell_type": "markdown",
   "metadata": {},
   "source": [
    "Connect to DB file with populated LHS experiment design, and read scope \n",
    "and experimental data."
   ]
  },
  {
   "cell_type": "code",
   "execution_count": null,
   "metadata": {
    "ExecuteTime": {
     "end_time": "2019-09-17T15:09:09.316868Z",
     "start_time": "2019-09-17T15:09:09.304991Z"
    }
   },
   "outputs": [],
   "source": [
    "db = emat.SQLiteDB(\"soabm_analysis_v2.db\", initialize=False)"
   ]
  },
  {
   "cell_type": "code",
   "execution_count": null,
   "metadata": {
    "ExecuteTime": {
     "end_time": "2019-09-17T15:09:09.342133Z",
     "start_time": "2019-09-17T15:09:09.325240Z"
    },
    "scrolled": true
   },
   "outputs": [],
   "source": [
    "db.read_scope_names()"
   ]
  },
  {
   "cell_type": "code",
   "execution_count": null,
   "metadata": {
    "ExecuteTime": {
     "end_time": "2019-09-17T15:09:09.392574Z",
     "start_time": "2019-09-17T15:09:09.354031Z"
    }
   },
   "outputs": [],
   "source": [
    "scope = db.read_scope('SOABM')\n",
    "scope.info()"
   ]
  },
  {
   "cell_type": "code",
   "execution_count": null,
   "metadata": {
    "ExecuteTime": {
     "end_time": "2019-09-17T15:09:09.428027Z",
     "start_time": "2019-09-17T15:09:09.406839Z"
    }
   },
   "outputs": [],
   "source": [
    "db.read_design_names('SOABM')"
   ]
  },
  {
   "cell_type": "markdown",
   "metadata": {},
   "source": [
    "Load the data from the core model experiments into a `pandas.DataFrame`."
   ]
  },
  {
   "cell_type": "code",
   "execution_count": null,
   "metadata": {
    "ExecuteTime": {
     "end_time": "2019-09-17T15:09:09.634206Z",
     "start_time": "2019-09-17T15:09:09.431771Z"
    }
   },
   "outputs": [],
   "source": [
    "core_experiments = db.read_experiment_all(scope_name='SOABM', design_name='odot_lhs', ensure_dtypes=True)"
   ]
  },
  {
   "cell_type": "code",
   "execution_count": null,
   "metadata": {
    "ExecuteTime": {
     "end_time": "2019-09-17T15:09:09.685548Z",
     "start_time": "2019-09-17T15:09:09.636152Z"
    }
   },
   "outputs": [],
   "source": [
    "mm = db.read_metamodel('SOABM', 1)"
   ]
  },
  {
   "cell_type": "code",
   "execution_count": null,
   "metadata": {
    "ExecuteTime": {
     "end_time": "2019-09-17T15:09:10.243703Z",
     "start_time": "2019-09-17T15:09:09.687768Z"
    }
   },
   "outputs": [],
   "source": [
    "meta_experiments = db.read_experiment_all(scope_name='SOABM', design_name='mc', ensure_dtypes=True, source=1)\n",
    "meta_experiments.info()"
   ]
  },
  {
   "cell_type": "markdown",
   "metadata": {},
   "source": [
    "# Directed Search "
   ]
  },
  {
   "cell_type": "markdown",
   "metadata": {},
   "source": [
    "## Policy Optimization: Search Over Levers\n",
    "\n",
    "Note: the use of the `cache_file` is argument, and allows re-loading the \n",
    "result of an optimization from a file instead of re-running the entire\n",
    "optimization process."
   ]
  },
  {
   "cell_type": "code",
   "execution_count": null,
   "metadata": {
    "ExecuteTime": {
     "end_time": "2019-09-17T15:15:56.083738Z",
     "start_time": "2019-09-17T15:14:33.413384Z"
    }
   },
   "outputs": [],
   "source": [
    "result = mm.optimize(\n",
    "    nfe=5000, \n",
    "    searchover='levers', \n",
    "    cache_file='./optimization_cache/odot_demo_search_over_levers_1.gz',\n",
    ")"
   ]
  },
  {
   "cell_type": "code",
   "execution_count": null,
   "metadata": {
    "ExecuteTime": {
     "end_time": "2019-09-18T18:46:55.563053Z",
     "start_time": "2019-09-18T18:46:54.340757Z"
    }
   },
   "outputs": [],
   "source": [
    "pc = result.par_coords()\n",
    "pc"
   ]
  },
  {
   "cell_type": "markdown",
   "metadata": {},
   "source": [
    "After viewing the results above, suppose we have decided that we're not actually\n",
    "interested in optimizing for auto ownership or non-mandatory tour making.  We \n",
    "can set these measures to `INFO` (0) in the scope to not optimize them, and re-run."
   ]
  },
  {
   "cell_type": "code",
   "execution_count": null,
   "metadata": {
    "ExecuteTime": {
     "end_time": "2019-09-17T15:17:29.439431Z",
     "start_time": "2019-09-17T15:17:29.432482Z"
    }
   },
   "outputs": [],
   "source": [
    "for i in ['Number of Autos Owned Per Household', 'Percent of Non-Mandatory Tours']:\n",
    "    mm.scope[i].kind = 0"
   ]
  },
  {
   "cell_type": "code",
   "execution_count": null,
   "metadata": {
    "ExecuteTime": {
     "end_time": "2019-09-17T15:19:16.824154Z",
     "start_time": "2019-09-17T15:19:16.350333Z"
    }
   },
   "outputs": [],
   "source": [
    "result1 = mm.optimize(\n",
    "    nfe=5000, \n",
    "    searchover='levers', \n",
    "    cache_file='./optimization_cache/odot_demo_search_over_levers_2.gz',\n",
    ")"
   ]
  },
  {
   "cell_type": "code",
   "execution_count": null,
   "metadata": {
    "ExecuteTime": {
     "end_time": "2019-09-17T15:19:20.365076Z",
     "start_time": "2019-09-17T15:19:19.649542Z"
    }
   },
   "outputs": [],
   "source": [
    "pc1 = result1.par_coords()\n",
    "pc1"
   ]
  },
  {
   "cell_type": "markdown",
   "metadata": {},
   "source": [
    "## Worst Case Planning: Search Over Uncertainties"
   ]
  },
  {
   "cell_type": "code",
   "execution_count": null,
   "metadata": {
    "ExecuteTime": {
     "end_time": "2019-09-18T04:34:34.233503Z",
     "start_time": "2019-09-18T04:33:51.092658Z"
    }
   },
   "outputs": [],
   "source": [
    "worst = mm.optimize(\n",
    "    nfe=2500, \n",
    "    searchover='uncertainties', \n",
    "    reverse_targets = True,\n",
    "    cache_file='./optimization_cache/odot_demo_search_over_uncs_1.gz',\n",
    ")"
   ]
  },
  {
   "cell_type": "code",
   "execution_count": null,
   "metadata": {
    "ExecuteTime": {
     "end_time": "2019-09-18T04:34:38.828898Z",
     "start_time": "2019-09-18T04:34:38.364463Z"
    }
   },
   "outputs": [],
   "source": [
    "wc = worst.par_coords()\n",
    "wc"
   ]
  },
  {
   "cell_type": "markdown",
   "metadata": {},
   "source": [
    "## Robust Search"
   ]
  },
  {
   "cell_type": "code",
   "execution_count": null,
   "metadata": {
    "ExecuteTime": {
     "end_time": "2019-09-17T15:09:10.330913Z",
     "start_time": "2019-09-17T15:09:10.322855Z"
    }
   },
   "outputs": [],
   "source": [
    "from emat import Measure\n",
    "import functools\n",
    "\n",
    "robustness_functions = [\n",
    "    Measure(\n",
    "        'Worst Case Accessibility',\n",
    "        kind=Measure.MAXIMIZE,\n",
    "        variable_name='Percentage of Population with Access to 50k Jobs by Car within 20mins in PM',\n",
    "        function=numpy.min,\n",
    "    ),\n",
    "\n",
    "    Measure(\n",
    "        'Worst Case Auto VHT',\n",
    "        kind=Measure.MINIMIZE,\n",
    "        variable_name='Thousands of Auto Hours Traveled',\n",
    "        function=numpy.max,\n",
    "    ),\n",
    "\n",
    "    Measure(\n",
    "        'Worst Case Congested Interstate Miles',\n",
    "        kind=Measure.MINIMIZE,\n",
    "        variable_name='Percent of Interstate Miles over 90% V/C Ratio During the PM Peak',\n",
    "        function=max,\n",
    "    ),\n",
    "\n",
    "]"
   ]
  },
  {
   "cell_type": "code",
   "execution_count": null,
   "metadata": {
    "ExecuteTime": {
     "end_time": "2019-09-17T15:09:11.857864Z",
     "start_time": "2019-09-17T15:09:10.333329Z"
    }
   },
   "outputs": [],
   "source": [
    "from emat.util.distributed import get_client\n",
    "client = get_client(n_workers=6, threads_per_worker=1)"
   ]
  },
  {
   "cell_type": "code",
   "execution_count": null,
   "metadata": {
    "ExecuteTime": {
     "end_time": "2019-09-17T15:09:13.758574Z",
     "start_time": "2019-09-17T15:09:11.862983Z"
    }
   },
   "outputs": [],
   "source": [
    "robust = mm.robust_optimize(\n",
    "        robustness_functions,\n",
    "        scenarios=200,\n",
    "        nfe=2000,\n",
    "        evaluator=client,\n",
    "        convergence_freq=100,\n",
    "        cache_file='./robust_cache/odot_demo_5.gz',\n",
    "        check_extremes=2,\n",
    ")"
   ]
  },
  {
   "cell_type": "code",
   "execution_count": null,
   "metadata": {
    "ExecuteTime": {
     "end_time": "2019-09-18T19:10:43.679981Z",
     "start_time": "2019-09-18T19:10:43.090952Z"
    }
   },
   "outputs": [],
   "source": [
    "robust.par_coords()"
   ]
  },
  {
   "cell_type": "code",
   "execution_count": null,
   "metadata": {},
   "outputs": [],
   "source": []
  },
  {
   "cell_type": "code",
   "execution_count": null,
   "metadata": {
    "ExecuteTime": {
     "end_time": "2019-09-17T15:10:03.552734Z",
     "start_time": "2019-09-17T15:09:14.097385Z"
    }
   },
   "outputs": [],
   "source": [
    "worst_1 = mm.optimize(\n",
    "    nfe=2500, \n",
    "    searchover='uncertainties', \n",
    "    reverse_targets = True,\n",
    "    reference = ema_workbench.Policy(**{\n",
    "         'Transit Everywhere': True,\n",
    "         'Transit LOS': -10,\n",
    "         'Parking Rates': 20,\n",
    "         'Active Transport Speed': 2,\n",
    "    })\n",
    ")"
   ]
  },
  {
   "cell_type": "code",
   "execution_count": null,
   "metadata": {
    "ExecuteTime": {
     "end_time": "2019-09-18T04:35:27.238306Z",
     "start_time": "2019-09-18T04:35:26.641358Z"
    }
   },
   "outputs": [],
   "source": [
    "worst_1.par_coords()"
   ]
  },
  {
   "cell_type": "code",
   "execution_count": null,
   "metadata": {},
   "outputs": [],
   "source": []
  }
 ],
 "metadata": {
  "hide_input": false,
  "kernelspec": {
   "display_name": "Python 3",
   "language": "python",
   "name": "python3"
  },
  "language_info": {
   "codemirror_mode": {
    "name": "ipython",
    "version": 3
   },
   "file_extension": ".py",
   "mimetype": "text/x-python",
   "name": "python",
   "nbconvert_exporter": "python",
   "pygments_lexer": "ipython3",
   "version": "3.7.3"
  },
  "toc": {
   "base_numbering": 1,
   "nav_menu": {},
   "number_sections": true,
   "sideBar": true,
   "skip_h1_title": false,
   "title_cell": "Table of Contents",
   "title_sidebar": "Contents",
   "toc_cell": false,
   "toc_position": {},
   "toc_section_display": true,
   "toc_window_display": false
  },
  "widgets": {
   "application/vnd.jupyter.widget-state+json": {
    "state": {},
    "version_major": 2,
    "version_minor": 0
   }
  }
 },
 "nbformat": 4,
 "nbformat_minor": 4
}
